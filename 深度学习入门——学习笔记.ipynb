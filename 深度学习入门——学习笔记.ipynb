{
 "cells": [
  {
   "cell_type": "markdown",
   "metadata": {},
   "source": [
    "# 深度学习入门——学习笔记（一）"
   ]
  },
  {
   "cell_type": "markdown",
   "metadata": {},
   "source": [
    "说明：本次练习代码均来自斋藤康毅的《深度学习入门》 ，全文不依赖其他框架，只基于numpy来构建深度学习网络。"
   ]
  },
  {
   "cell_type": "markdown",
   "metadata": {},
   "source": [
    "### 一、激活函数\n",
    "说明：激活函数相当于是神经网络的神经元，他们根据输入信号，反馈输出信号。因此不同类型的激活函数会构建成不同类型、不同敏感度的神经网络。"
   ]
  },
  {
   "cell_type": "code",
   "execution_count": 426,
   "metadata": {},
   "outputs": [],
   "source": [
    "# 导入包\n",
    "import numpy as np\n",
    "# 导入作图包\n",
    "import matplotlib\n",
    "import matplotlib.pylab as plt\n",
    "matplotlib.rcParams['font.sans-serif'] = ['SimHei']\n",
    "matplotlib.rcParams['font.family']='sans-serif'\n",
    "plt.rcParams['axes.unicode_minus'] = False \n",
    "# 忽略警告\n",
    "import warnings\n",
    "warnings.filterwarnings('ignore')"
   ]
  },
  {
   "cell_type": "code",
   "execution_count": 427,
   "metadata": {},
   "outputs": [],
   "source": [
    "# 激活函数，阶跃函数\n",
    "def step_function(x):\n",
    "    return np.array(x>0, dtype=np.int)"
   ]
  },
  {
   "cell_type": "code",
   "execution_count": 428,
   "metadata": {},
   "outputs": [],
   "source": [
    "# 激活函数，连续型，每一处导数均不为0，因此每一个x值都有一个方向以及程度上的反馈信号，因此可以通过反馈信号，不断更新我们的x，而阶跃函数不具有此性质\n",
    "def sigmoid(x):\n",
    "    return 1/(1+np.exp(-x))"
   ]
  },
  {
   "cell_type": "code",
   "execution_count": 429,
   "metadata": {},
   "outputs": [],
   "source": [
    "x=np.arange(-5,5,0.2)"
   ]
  },
  {
   "cell_type": "code",
   "execution_count": 430,
   "metadata": {},
   "outputs": [
    {
     "data": {
      "image/png": "[encoded data removed]",
      "text/plain": [
       "<Figure size 432x288 with 1 Axes>"
      ]
     },
     "metadata": {
      "needs_background": "light"
     },
     "output_type": "display_data"
    }
   ],
   "source": [
    "# 画出阶跃函数\n",
    "y1=step_function(x)\n",
    "plt.plot(x,y1)\n",
    "plt.show()"
   ]
  },
  {
   "cell_type": "code",
   "execution_count": 431,
   "metadata": {},
   "outputs": [
    {
     "data": {
      "image/png": "[encoded data removed]",
      "text/plain": [
       "<Figure size 432x288 with 1 Axes>"
      ]
     },
     "metadata": {
      "needs_background": "light"
     },
     "output_type": "display_data"
    }
   ],
   "source": [
    "# 画出sigmoid函数\n",
    "y2=sigmoid(x)\n",
    "plt.plot(x,y2)\n",
    "plt.show()"
   ]
  },
  {
   "cell_type": "code",
   "execution_count": 432,
   "metadata": {},
   "outputs": [],
   "source": [
    "# relu函数\n",
    "def relu(x):\n",
    "    return np.maximum(0,x)"
   ]
  },
  {
   "cell_type": "code",
   "execution_count": 433,
   "metadata": {},
   "outputs": [
    {
     "data": {
      "image/png": "[encoded data removed]",
      "text/plain": [
       "<Figure size 432x288 with 1 Axes>"
      ]
     },
     "metadata": {
      "needs_background": "light"
     },
     "output_type": "display_data"
    }
   ],
   "source": [
    "y3=relu(x)\n",
    "plt.plot(x,y3)\n",
    "plt.show()"
   ]
  },
  {
   "cell_type": "markdown",
   "metadata": {},
   "source": [
    "### 二、输出层\n",
    "说明：神经网络一般有输入层、中间层（也叫隐藏层）、输出层构成。输出层负责获得最终的计算结果，一般是一个概率值。"
   ]
  },
  {
   "cell_type": "code",
   "execution_count": 723,
   "metadata": {},
   "outputs": [],
   "source": [
    "# softmax函数，可将任意范围的数转换到值域[0,1]，因此适合作为输出结果的概率函数。\n",
    "def softmax(x):\n",
    "    if x.ndim == 2:\n",
    "        x = x.T # 转置后一行表示一个特征向量\n",
    "        x = x - np.max(x, axis=0) # 在该特征向量上，每个特征值减去最大的特征值\n",
    "        y = np.exp(x) / np.sum(np.exp(x), axis=0) \n",
    "        return y.T # 计算完后再转置回来，每行表示一个样本\n",
    "\n",
    "    x = x - np.max(x) # 溢出对策\n",
    "    return np.exp(x) / np.sum(np.exp(x))"
   ]
  },
  {
   "cell_type": "code",
   "execution_count": 724,
   "metadata": {},
   "outputs": [
    {
     "name": "stdout",
     "output_type": "stream",
     "text": [
      "[9.35762295e-14 2.06115362e-09 9.99999998e-01]\n",
      "[[9.99999943e-01 1.52299789e-08 4.13993748e-08]\n",
      " [1.00000000e+00 8.53304763e-17 1.15482242e-17]]\n"
     ]
    }
   ],
   "source": [
    "x=np.array([10,20,40]) #x.ndim=1\n",
    "print(softmax(x))\n",
    "x=np.array([[20,2,3],[40,3,1]]) # x.ndim=2\n",
    "print(softmax(x))"
   ]
  },
  {
   "cell_type": "markdown",
   "metadata": {},
   "source": [
    "### 三、损失函数\n",
    "说明：神经网络需要更新神经元之间连接的权重参数，以使得最终网络预测的结果与真实结果是相近的。因此，整个网络需要有一个优化目标来更新这些参数，我们一般定义计算的结果与真实结果的差异作为优化的目标。这种差异可以有多种定义方式，比如误差、均方误差、交叉熵等。"
   ]
  },
  {
   "cell_type": "code",
   "execution_count": 567,
   "metadata": {},
   "outputs": [],
   "source": [
    "# 损失函数，均方误差，y为神经网络的输出，t为真实标签\n",
    "def mean_squared_error(y,t):\n",
    "    return 0.5 * np.sum((y-t)**2)"
   ]
  },
  {
   "cell_type": "code",
   "execution_count": 585,
   "metadata": {},
   "outputs": [],
   "source": [
    "# 损失函数，交叉熵，y为神经网络的输出，t为真实标签，若t为one-hot编码，假设结果标签是数字1-5的值，则[0,1,0,0,0]表示这个样本的真实值是2。因此t为0的元素其交叉熵也为0，可用t*np.log(y+1e-7)来计算\n",
    "def cross_entropy_error_onehot(y,t):\n",
    "    if y.ndim==1:\n",
    "        t=t.reshape(1,t.size) # 1行，t.size列\n",
    "        y=y.reshape(1,y.size)\n",
    "    batch_size=y.shape[0] # y的行数\n",
    "    return -np.sum(t*np.log(y+1e-7))/batch_size # 除以batch_size是为了归一化，得到数据的平均交叉熵误差"
   ]
  },
  {
   "cell_type": "code",
   "execution_count": 657,
   "metadata": {},
   "outputs": [
    {
     "name": "stdout",
     "output_type": "stream",
     "text": [
      "y的维数: 2\n",
      "第一个样本的y: [1 0 0]\n",
      "第一个样本的t: [1 0 0]\n",
      "样本的个数: 4\n",
      "y的总长度: 12\n",
      "损失函数的值: -9.999999505838704e-08\n"
     ]
    }
   ],
   "source": [
    "# 示例数据，y 为（batch_size,3),t为（batch_size,3), batch_size表示样本数，此处为4，3则表示有3种结果\n",
    "y=np.array([[1,0,0],[0,1,0],[1,0,0],[0,0,1]])\n",
    "t=np.array([[1,0,0],[0,1,0],[1,0,0],[0,0,1]])\n",
    "# 计算损失函数的值\n",
    "print(\"y的维数:\",y.ndim)\n",
    "print(\"第一个样本的y:\",y[0])\n",
    "print(\"第一个样本的t:\",t[0])\n",
    "print(\"样本的个数:\",y.shape[0])\n",
    "print(\"y的总长度:\",y.size)\n",
    "print(\"损失函数的值:\",cross_entropy_error_onehot(y,t))"
   ]
  },
  {
   "cell_type": "code",
   "execution_count": 678,
   "metadata": {},
   "outputs": [],
   "source": [
    "# 损失函数，交叉熵，若y为one-hot编码，但t为非one-hot编码。\n",
    "def cross_entropy_error_notonehot(y,t):\n",
    "    if y.ndim==1:\n",
    "        t=t.reshape(1,t.size)\n",
    "        y=y.reshape(1,y.size)\n",
    "    print(\"t.shape:\",t.shape)\n",
    "    batch_size=y.shape[0] \n",
    "    print(np.arange(batch_size)) # [0 1 2 3]\n",
    "    print(y[np.arange(batch_size),t]) # [0 1 1 1]\n",
    "    return -np.sum(np.log(y[np.arange(batch_size),t]+1e-7))/batch_size"
   ]
  },
  {
   "cell_type": "code",
   "execution_count": 681,
   "metadata": {},
   "outputs": [
    {
     "name": "stdout",
     "output_type": "stream",
     "text": [
      "t.shape: (4,)\n",
      "[0 1 2 3]\n",
      "[0 1 1 1]\n",
      "损失函数的值: 4.029523837739585\n"
     ]
    }
   ],
   "source": [
    "# 示例数据，y 为（batch_size,3),t为（batch_size,),t是一维的\n",
    "y=np.array([[1,0,0],[0,1,0],[1,0,0],[0,0,1]])\n",
    "t_onehot=np.array([[0,1,0],[0,1,0],[1,0,0],[0,0,1]])\n",
    "t = t_onehot.argmax(axis=1)# 非 one-hot [1 1 0 2]\n",
    "# 计算损失函数的值\n",
    "print(\"损失函数的值:\",cross_entropy_error_notonehot(y,t))"
   ]
  },
  {
   "cell_type": "code",
   "execution_count": 682,
   "metadata": {},
   "outputs": [],
   "source": [
    "# 最终损失函数\n",
    "def cross_entropy_error(y, t):\n",
    "    if y.ndim == 1:\n",
    "        t = t.reshape(1, t.size)\n",
    "        y = y.reshape(1, y.size)\n",
    "        \n",
    "    # 监督数据是one-hot-vector的情况下，转换为正确解标签的索引\n",
    "    if t.size == y.size:\n",
    "        t = t.argmax(axis=1)\n",
    "             \n",
    "    batch_size = y.shape[0]\n",
    "    return -np.sum(np.log(y[np.arange(batch_size), t] + 1e-7)) / batch_size"
   ]
  },
  {
   "cell_type": "code",
   "execution_count": 712,
   "metadata": {},
   "outputs": [
    {
     "name": "stdout",
     "output_type": "stream",
     "text": [
      "损失函数的值: 4.029523837739585\n"
     ]
    }
   ],
   "source": [
    "# 示例数据，y 为（batch_size,3),t为（batch_size,),t是一维的\n",
    "y=np.array([[1,0,0],[0,1,0],[1,0,0],[0,0,1]])\n",
    "t_onehot=np.array([[0,1,0],[0,1,0],[1,0,0],[0,0,1]])\n",
    "t = t_onehot.argmax(axis=1)# 非 one-hot [1 1 0 2]\n",
    "# 计算损失函数的值\n",
    "print(\"损失函数的值:\",cross_entropy_error(y,t))"
   ]
  },
  {
   "cell_type": "markdown",
   "metadata": {},
   "source": [
    "### 四、梯度\n",
    "说明：损失函数告诉了我们网络计算的结果与真实结果的差异，但是并没有告诉我们应该如何更新权重参数。梯度即是定义参数变化对损失函数的影响值。我们最终希望得到最小的预测差异，也就是说在某些参数值附近，参数的变化对预测差异已经没有多少影响了。梯度不断的减小，最终趋于0时，我们就找到了那些参数。"
   ]
  },
  {
   "cell_type": "code",
   "execution_count": 683,
   "metadata": {},
   "outputs": [],
   "source": [
    "# 方程1\n",
    "def function_1(x):\n",
    "    return 0.01*x**3 + 0.1*x"
   ]
  },
  {
   "cell_type": "code",
   "execution_count": 684,
   "metadata": {},
   "outputs": [
    {
     "data": {
      "image/png": "[encoded data removed]",
      "text/plain": [
       "<Figure size 432x288 with 1 Axes>"
      ]
     },
     "metadata": {
      "needs_background": "light"
     },
     "output_type": "display_data"
    }
   ],
   "source": [
    "# 示例数据作图\n",
    "x=np.arange(0.0,20.0,0.1)\n",
    "y=function_1(x)\n",
    "plt.plot(x,y)\n",
    "plt.xlabel(\"x\")\n",
    "plt.ylabel(\"y\")\n",
    "plt.title(\"0.01x^3+0.1x\")\n",
    "plt.show()"
   ]
  },
  {
   "cell_type": "code",
   "execution_count": 685,
   "metadata": {},
   "outputs": [],
   "source": [
    "# 求导数\n",
    "def numerical_diff(f,x):\n",
    "    h=1e-4\n",
    "    return (f(x+h)-f(x))/(2*h)"
   ]
  },
  {
   "cell_type": "code",
   "execution_count": 686,
   "metadata": {},
   "outputs": [
    {
     "data": {
      "image/png": "[encoded data removed]",
      "text/plain": [
       "<Figure size 432x288 with 1 Axes>"
      ]
     },
     "metadata": {
      "needs_background": "light"
     },
     "output_type": "display_data"
    }
   ],
   "source": [
    "# 示例作图\n",
    "y1=numerical_diff(function_1,x)\n",
    "plt.plot(x,y1)\n",
    "plt.title(\"0.01x^3+0.1x的导数\")\n",
    "plt.show()"
   ]
  },
  {
   "cell_type": "code",
   "execution_count": 687,
   "metadata": {},
   "outputs": [],
   "source": [
    "# 方程2\n",
    "def function_2(x):\n",
    "    return x[0]**2 + x[1]**2\n",
    "    # 或者 return np.sum(x**2)"
   ]
  },
  {
   "cell_type": "code",
   "execution_count": 688,
   "metadata": {},
   "outputs": [
    {
     "data": {
      "text/plain": [
       "25"
      ]
     },
     "execution_count": 688,
     "metadata": {},
     "output_type": "execute_result"
    }
   ],
   "source": [
    "x=np.array([3,4])\n",
    "function_2(x)"
   ]
  },
  {
   "cell_type": "code",
   "execution_count": 689,
   "metadata": {},
   "outputs": [],
   "source": [
    "# 计算函数f在x处的梯度值,x是一个一维的数组，表示某一个x=[x0,x1,x2,x3...xn]，n为空间的维度\n",
    "def numerical_gradient_1d(f,x):\n",
    "    x=x.astype(float) # 转为float类型\n",
    "    h=1e-4\n",
    "    grad=np.zeros_like(x)\n",
    "    \n",
    "    for idx in range(x.size):\n",
    "        tmp_val=x[idx]\n",
    "        \n",
    "        # f(x+h)计算\n",
    "        x[idx]=tmp_val+h\n",
    "        fxh1=f(x)\n",
    "        \n",
    "        # f(x-h)的计算\n",
    "        x[idx]=tmp_val-h\n",
    "        fxh2=f(x)\n",
    "        #print(\"idx:{0},fxh1:{1},fxh2:{2}\".format(idx,fxh1,fxh2))\n",
    "        grad[idx]=(fxh1-fxh2)/(2*h)\n",
    "        x[idx]=tmp_val\n",
    "        \n",
    "    return grad"
   ]
  },
  {
   "cell_type": "code",
   "execution_count": 690,
   "metadata": {},
   "outputs": [
    {
     "data": {
      "text/plain": [
       "array([6., 8.])"
      ]
     },
     "execution_count": 690,
     "metadata": {},
     "output_type": "execute_result"
    }
   ],
   "source": [
    "numerical_gradient_1d(function_2,np.array([3,4]))"
   ]
  },
  {
   "cell_type": "code",
   "execution_count": 691,
   "metadata": {},
   "outputs": [],
   "source": [
    "# 如果 x是一个矩阵，则需要用到numpy自带的迭代器nditer\n",
    "def numerical_gradient(f,x):\n",
    "    h = 1e-4 # 0.0001\n",
    "    grad = np.zeros_like(x)\n",
    "    \n",
    "    it = np.nditer(x, flags=['multi_index'], op_flags=['readwrite'])\n",
    "    while not it.finished:\n",
    "        idx = it.multi_index\n",
    "        tmp_val = x[idx]\n",
    "        x[idx] = float(tmp_val) + h\n",
    "        fxh1 = f(x) # f(x+h)\n",
    "        \n",
    "        x[idx] = tmp_val - h \n",
    "        fxh2 = f(x) # f(x-h)\n",
    "        grad[idx] = (fxh1 - fxh2) / (2*h)\n",
    "        \n",
    "        x[idx] = tmp_val # 还原值\n",
    "        it.iternext()   \n",
    "        \n",
    "    return grad"
   ]
  },
  {
   "cell_type": "code",
   "execution_count": 692,
   "metadata": {},
   "outputs": [],
   "source": [
    "# 梯度下降法，每次更新x值，更新的程度就是x的梯度乘以一个系数，这样梯度越大，x更新的就越大，最终梯度为0附近时，x就不更新了。\n",
    "def gradient_decent(f,init_x,lr=0.01,step_num=100):\n",
    "    x = init_x\n",
    "    xplot=np.zeros((step_num,2))\n",
    "    for i in range(step_num):\n",
    "        grad = numerical_gradient_1d(f,x)\n",
    "        x -= lr*grad\n",
    "        xplot[i,:]=x\n",
    "    return xplot,x"
   ]
  },
  {
   "cell_type": "code",
   "execution_count": 693,
   "metadata": {},
   "outputs": [
    {
     "name": "stdout",
     "output_type": "stream",
     "text": [
      "最小值为：[-6.11110793e-10  8.14814391e-10]\n"
     ]
    }
   ],
   "source": [
    "# 用梯度下降法求f(x0+x1)=x0^2+x1^2的最小值\n",
    "init_x=np.array([-3.,4.])\n",
    "xplot,x=gradient_decent(function_2,init_x,lr=0.1,step_num=100)\n",
    "print(\"最小值为：{0}\".format(x))"
   ]
  },
  {
   "cell_type": "code",
   "execution_count": 694,
   "metadata": {
    "scrolled": true
   },
   "outputs": [
    {
     "data": {
      "image/png": "[encoded data removed]",
      "text/plain": [
       "<Figure size 432x288 with 1 Axes>"
      ]
     },
     "metadata": {
      "needs_background": "light"
     },
     "output_type": "display_data"
    }
   ],
   "source": [
    "# 画出x更新的过程\n",
    "plt.scatter(xplot[:,0],xplot[:,1])\n",
    "plt.xlim(-3,3)\n",
    "plt.ylim(-3,3)\n",
    "plt.xlabel(\"x0\")\n",
    "plt.ylabel(\"x1\")\n",
    "plt.title(\"x0,x1的更新过程\")\n",
    "txt=np.array(100)\n",
    "plt.show()"
   ]
  },
  {
   "cell_type": "code",
   "execution_count": 725,
   "metadata": {},
   "outputs": [],
   "source": [
    "# 神经网络的梯度。神经网络的梯度定义为损失函数关于权重参数的梯度。因为我们最终求的是权重参数值，因此梯度定义为权重参数的改变对损失函数的影响程度。\n",
    "class simpleNet:\n",
    "    def __init__(self):\n",
    "        self.W = np.random.randn(2,3) # 随机初始化权重参数\n",
    "    def predict(self,x):\n",
    "        return np.dot(x, self.W)\n",
    "    def loss(self,x,t):\n",
    "        z = self.predict(x) # 预测值\n",
    "        y = softmax(z) # 输出层\n",
    "        loss = cross_entropy_error(y,t) # 计算差异\n",
    "        return loss"
   ]
  },
  {
   "cell_type": "code",
   "execution_count": 726,
   "metadata": {},
   "outputs": [
    {
     "name": "stdout",
     "output_type": "stream",
     "text": [
      ">>>网络连接的权重参数为：\n",
      "[[-1.2113439   0.32843788  0.3827121 ]\n",
      " [-1.48413071 -1.21658075 -2.36810466]]\n",
      ">>>预测值为：\n",
      "[-2.06252398 -0.89785994 -1.90166693]\n",
      ">>>预测值的索引：\n",
      "1\n",
      ">>>误差为：\n",
      "1.682569435059308\n"
     ]
    }
   ],
   "source": [
    "# 测试一下这个神经网络\n",
    "net = simpleNet()\n",
    "print(\">>>网络连接的权重参数为：\\n{0}\".format(net.W))\n",
    "x=np.array([0.6,0.9])\n",
    "p=net.predict(x)\n",
    "print(\">>>预测值为：\\n{0}\".format(p))\n",
    "print(\">>>预测值的索引：\\n{0}\".format(np.argmax(p)))\n",
    "t=np.array([1,0,0])\n",
    "loss=net.loss(x,t)\n",
    "print(\">>>误差为：\\n{0}\".format(loss))"
   ]
  },
  {
   "cell_type": "code",
   "execution_count": 727,
   "metadata": {},
   "outputs": [
    {
     "name": "stdout",
     "output_type": "stream",
     "text": [
      ">>>W处的梯度为：\n",
      "[[-0.48846237  0.3574599   0.13100247]\n",
      " [-0.73269355  0.53618985  0.19650371]]\n"
     ]
    }
   ],
   "source": [
    "# 计算梯度，参数W即是之前的x，我们期望求的是Loss关于参数W的梯度\n",
    "def f(W):\n",
    "    return net.loss(x,t) # 函数定义为，给一个参数W，即返回这个W对应的loss\n",
    "dW = numerical_gradient(f,net.W)\n",
    "print(\">>>W处的梯度为：\\n{0}\".format(dW))"
   ]
  },
  {
   "cell_type": "markdown",
   "metadata": {},
   "source": [
    "### 五、整个学习过程的实现\n",
    "说明：神经网络的学习过程主要分为，获得训练数据、计算训练数据的损失函数、计算各权重参数的梯度、将权重参数更新、不断重复以上步骤，达到某个条件后停止更新。"
   ]
  },
  {
   "cell_type": "code",
   "execution_count": 728,
   "metadata": {},
   "outputs": [],
   "source": [
    "# 定义两层的神经网络\n",
    "class TwoLayerNet:\n",
    "\n",
    "    def __init__(self, input_size, hidden_size, output_size, weight_init_std=0.01):\n",
    "        # 初始化权重\n",
    "        # input_size 输入层神经元的个数\n",
    "        # hidden_size 中间层神经元的个数\n",
    "        # output_size 输出层神经元的个数\n",
    "        self.params = {}\n",
    "        self.params['W1'] = weight_init_std * np.random.randn(input_size, hidden_size) # 第一层权重参数，即输入与中间层之间的权重参数\n",
    "        self.params['b1'] = np.zeros(hidden_size) # 第一层偏置参数\n",
    "        self.params['W2'] = weight_init_std * np.random.randn(hidden_size, output_size) # 第二层权重参数\n",
    "        self.params['b2'] = np.zeros(output_size) # 第二层偏置参数\n",
    "\n",
    "    def predict(self, x):\n",
    "        # 根据输入的x，计算预测值y\n",
    "        W1, W2 = self.params['W1'], self.params['W2']\n",
    "        b1, b2 = self.params['b1'], self.params['b2']\n",
    "    \n",
    "        a1 = np.dot(x, W1) + b1\n",
    "        z1 = sigmoid(a1)\n",
    "        a2 = np.dot(z1, W2) + b2\n",
    "        y = softmax(a2)\n",
    "        \n",
    "        return y\n",
    "        \n",
    "    def loss(self, x, t):\n",
    "        # 根据输入x，真实的标签t，计算差异值\n",
    "        y = self.predict(x)\n",
    "        \n",
    "        return cross_entropy_error(y, t)\n",
    "    \n",
    "    def accuracy(self, x, t):\n",
    "        # 统计预测的正确率\n",
    "        y = self.predict(x)\n",
    "        y = np.argmax(y, axis=1)\n",
    "        t = np.argmax(t, axis=1)\n",
    "        \n",
    "        accuracy = np.sum(y == t) / float(x.shape[0])\n",
    "        return accuracy\n",
    "        \n",
    "    def numerical_gradient(self, x, t):\n",
    "        # 根据输入的x，真实的标签t，计算各网络参数对应的梯度grads\n",
    "        loss_W = lambda W: self.loss(x, t) # 定义基于权重参数的损失函数loss_W\n",
    "        \n",
    "        grads = {}\n",
    "        grads['W1'] = numerical_gradient(loss_W, self.params['W1']) # 根据损失函数，以及目前第一层的权重参数W1，计算W1对应的梯度\n",
    "        grads['b1'] = numerical_gradient(loss_W, self.params['b1']) # 类似\n",
    "        grads['W2'] = numerical_gradient(loss_W, self.params['W2'])\n",
    "        grads['b2'] = numerical_gradient(loss_W, self.params['b2'])\n",
    "        \n",
    "        return grads\n",
    "        \n",
    "    def gradient(self, x, t):\n",
    "        # 误差反向传播法\n",
    "        # 根据输入的x，真实的标签t，计算各网络参数对应的梯度grads，是numerical_gradient方法的高速版。\n",
    "        # 先是根据输入的x，真实的标签t，向前传播，计算预测值y\n",
    "        # 根据预测值与真实值的差异，反向更新各层的参数对应的梯度值\n",
    "        W1, W2 = self.params['W1'], self.params['W2']\n",
    "        b1, b2 = self.params['b1'], self.params['b2']\n",
    "        grads = {}\n",
    "        \n",
    "        batch_num = x.shape[0] # 输入的一批样本的个数\n",
    "        \n",
    "        # forward\n",
    "        a1 = np.dot(x, W1) + b1\n",
    "        z1 = sigmoid(a1) # 第一层神经元的输出值\n",
    "        a2 = np.dot(z1, W2) + b2 \n",
    "        y = softmax(a2) # y为预测值\n",
    "        \n",
    "        # backward\n",
    "        dy = (y - t) / batch_num # 预测值与真实值的差异\n",
    "        grads['W2'] = np.dot(z1.T, dy) # 根据差异值，第一层神经元的输出值，计算第二层的权重参数\n",
    "        grads['b2'] = np.sum(dy, axis=0) # 根据差异值，更新第二层的偏置参数\n",
    "        \n",
    "        da1 = np.dot(dy, W2.T) \n",
    "        dz1 = sigmoid_grad(a1) * da1 \n",
    "        grads['W1'] = np.dot(x.T, dz1)\n",
    "        grads['b1'] = np.sum(dz1, axis=0)\n",
    "\n",
    "        return grads"
   ]
  },
  {
   "cell_type": "code",
   "execution_count": 729,
   "metadata": {},
   "outputs": [
    {
     "name": "stdout",
     "output_type": "stream",
     "text": [
      "W1的形状： (784, 100)\n",
      "b1的形状： (100,)\n",
      "W2的形状： (100, 10)\n",
      "b2的形状： (10,)\n"
     ]
    }
   ],
   "source": [
    "# 测试二层的神经网络的各个参数\n",
    "net = TwoLayerNet(input_size=784,hidden_size=100,output_size=10)\n",
    "print(\"W1的形状：\",net.params['W1'].shape)\n",
    "print(\"b1的形状：\",net.params['b1'].shape)\n",
    "print(\"W2的形状：\",net.params['W2'].shape)\n",
    "print(\"b2的形状：\",net.params['b2'].shape)"
   ]
  },
  {
   "cell_type": "code",
   "execution_count": 577,
   "metadata": {},
   "outputs": [
    {
     "name": "stdout",
     "output_type": "stream",
     "text": [
      "W1的梯度的形状： (784, 100)\n",
      "b1的梯度的形状： (100,)\n",
      "W2的梯度的形状： (100, 10)\n",
      "b2的梯度的形状： (10,)\n"
     ]
    }
   ],
   "source": [
    "# 测试各参数的梯度的计算结果\n",
    "x=np.random.rand(100,784)\n",
    "y=net.predict(x)\n",
    "t=np.random.rand(100,10)\n",
    "grads = net.numerical_gradient(x,t) # 计算时间较长，请耐心等待。\n",
    "print(\"W1的梯度的形状：\",grads['W1'].shape)\n",
    "print(\"b1的梯度的形状：\",grads['b1'].shape)\n",
    "print(\"W2的梯度的形状：\",grads['W2'].shape)\n",
    "print(\"b2的梯度的形状：\",grads['b2'].shape)"
   ]
  },
  {
   "cell_type": "code",
   "execution_count": 730,
   "metadata": {},
   "outputs": [],
   "source": [
    "# 开始训练\n",
    "# 载入python自带的数据集mnist\n",
    "from dataset.mnist import load_mnist\n",
    "(x_train,t_train),(x_test,y_test)=  load_mnist(normalize=True,one_hot_label=True) # 载入时间较长，请耐心等待"
   ]
  },
  {
   "cell_type": "code",
   "execution_count": 731,
   "metadata": {},
   "outputs": [
    {
     "name": "stdout",
     "output_type": "stream",
     "text": [
      "(60000, 784)\n",
      "(60000, 10)\n",
      "(10000, 784)\n",
      "(10000, 10)\n"
     ]
    }
   ],
   "source": [
    "print(x_train.shape)\n",
    "print(t_train.shape)\n",
    "print(x_test.shape)\n",
    "print(y_test.shape)"
   ]
  },
  {
   "cell_type": "code",
   "execution_count": 732,
   "metadata": {},
   "outputs": [],
   "source": [
    "# 初始化以及参数设定\n",
    "train_loss_list=[]\n",
    "# 定义超参数。超参数与模型本身的参数不同，是与网络参数学习相关的参数。\n",
    "iters_num = 1000\n",
    "train_size=x_train.shape[0]\n",
    "batch_size=100 #每次采样的个数\n",
    "learning_rate=0.1\n",
    "network = TwoLayerNet(input_size=784, hidden_size=50, output_size=10)"
   ]
  },
  {
   "cell_type": "code",
   "execution_count": 733,
   "metadata": {},
   "outputs": [
    {
     "name": "stdout",
     "output_type": "stream",
     "text": [
      "训练进度：100%"
     ]
    }
   ],
   "source": [
    "# 训练过程\n",
    "for i in range(iters_num):\n",
    "    print(\"\\r训练进度：{0}%\".format(int((i+1)/iters_num*100)),end=\"\")\n",
    "    # 采样\n",
    "    batch_mask = np.random.choice(train_size,batch_size)\n",
    "    x_batch = x_train[batch_mask]\n",
    "    t_batch = t_train[batch_mask]\n",
    "    \n",
    "    # 计算mini-batch数据下的梯度\n",
    "    # grad = network.numerical_gradient(x_batch,t_batch)\n",
    "    grad = network.gradient(x_batch,t_batch) # 高速版\n",
    "    \n",
    "    # 更新参数\n",
    "    for key in ('W1','b1','W2',\"b2\"):\n",
    "        network.params[key] -= learning_rate * grad[key]\n",
    "    \n",
    "    # 记录学习过程\n",
    "    loss = network.loss(x_batch, t_batch)\n",
    "    train_loss_list.append(loss)"
   ]
  },
  {
   "cell_type": "code",
   "execution_count": 736,
   "metadata": {},
   "outputs": [
    {
     "data": {
      "image/png": "[encoded data removed]",
      "text/plain": [
       "<Figure size 432x288 with 1 Axes>"
      ]
     },
     "metadata": {
      "needs_background": "light"
     },
     "output_type": "display_data"
    }
   ],
   "source": [
    "# 画出损失函数的值的迭代图像\n",
    "plt.plot(train_loss_list)\n",
    "plt.ylabel(\"损失函数的损失值\")\n",
    "plt.xlabel(\"迭代的轮数\")\n",
    "plt.show()"
   ]
  },
  {
   "cell_type": "code",
   "execution_count": null,
   "metadata": {},
   "outputs": [],
   "source": []
  }
 ],
 "metadata": {
  "kernelspec": {
   "display_name": "Python 3",
   "language": "python",
   "name": "python3"
  },
  "language_info": {
   "codemirror_mode": {
    "name": "ipython",
    "version": 3
   },
   "file_extension": ".py",
   "mimetype": "text/x-python",
   "name": "python",
   "nbconvert_exporter": "python",
   "pygments_lexer": "ipython3",
   "version": "3.7.4"
  }
 },
 "nbformat": 4,
 "nbformat_minor": 2
}
